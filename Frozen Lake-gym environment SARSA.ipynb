{
 "cells": [
  {
   "cell_type": "code",
   "execution_count": 142,
   "id": "cheap-necessity",
   "metadata": {},
   "outputs": [],
   "source": [
    "import gym\n",
    "import numpy as np\n",
    "import matplotlib.pyplot as plt"
   ]
  },
  {
   "cell_type": "code",
   "execution_count": 143,
   "id": "essential-event",
   "metadata": {},
   "outputs": [],
   "source": [
    "env = gym.make('FrozenLake-v0')# defining the environment"
   ]
  },
  {
   "cell_type": "code",
   "execution_count": 144,
   "id": "double-mainland",
   "metadata": {},
   "outputs": [
    {
     "name": "stdout",
     "output_type": "stream",
     "text": [
      "\n",
      "\u001b[41mS\u001b[0mFFF\n",
      "FHFH\n",
      "FFFH\n",
      "HFFG\n"
     ]
    }
   ],
   "source": [
    "env.reset()\n",
    "env.render()"
   ]
  },
  {
   "cell_type": "code",
   "execution_count": 145,
   "id": "answering-antique",
   "metadata": {},
   "outputs": [],
   "source": [
    "env.close()"
   ]
  },
  {
   "cell_type": "code",
   "execution_count": 146,
   "id": "latest-nickel",
   "metadata": {},
   "outputs": [
    {
     "data": {
      "text/plain": [
       "12"
      ]
     },
     "execution_count": 146,
     "metadata": {},
     "output_type": "execute_result"
    }
   ],
   "source": [
    "env.action_space.n\n",
    "env.observation_space.n \n",
    "env.action_space.sample()\n",
    "env.observation_space.sample()# exploring the environment\n"
   ]
  },
  {
   "cell_type": "code",
   "execution_count": 147,
   "id": "cellular-occasions",
   "metadata": {},
   "outputs": [],
   "source": [
    "def random_argmax_axis1(b):\n",
    "    return np.argmax(np.random.random(b.shape) * (b.T==b.max(axis=1)).T, axis=1)"
   ]
  },
  {
   "cell_type": "code",
   "execution_count": 148,
   "id": "through-natural",
   "metadata": {},
   "outputs": [],
   "source": [
    "def epsilon_policy(s,Q_sa,env,epsilon):\n",
    "    if np.random.random() < epsilon:\n",
    "        action = env.action_space.sample() #exploration\n",
    "    else:\n",
    "        action = random_argmax_axis1(Q_sa)[s] #explotation\n",
    "    return action"
   ]
  },
  {
   "cell_type": "code",
   "execution_count": 149,
   "id": "compliant-theorem",
   "metadata": {},
   "outputs": [],
   "source": [
    "def plot_result(rewards,y_lable,window_size):\n",
    "    plt.show()  \n",
    "    i = 0\n",
    "    new_y = []\n",
    "    while i < len(rewards):\n",
    "        new_y.append(np.mean(rewards[i: i+ window_size]))\n",
    "        i += window_size\n",
    "    plt.plot(new_y)\n",
    "    plt.ylabel(y_lable)\n",
    "    plt.show()"
   ]
  },
  {
   "cell_type": "code",
   "execution_count": 150,
   "id": "ranking-floating",
   "metadata": {},
   "outputs": [],
   "source": [
    "Q_sa = np.zeros((env.observation_space.n,env.action_space.n))# defining Q table"
   ]
  },
  {
   "cell_type": "code",
   "execution_count": 151,
   "id": "placed-blanket",
   "metadata": {},
   "outputs": [],
   "source": [
    "EPISODES = 40000 \n",
    "LEARNING_RATE = 0.2\n",
    "DISCOUNT_FACTOR = 1\n",
    "epsilon = 1.0\n",
    "rewards = []"
   ]
  },
  {
   "cell_type": "code",
   "execution_count": 152,
   "id": "unexpected-bunny",
   "metadata": {},
   "outputs": [],
   "source": [
    "for i in range(EPISODES):\n",
    "    s = env.reset()\n",
    "    a = epsilon_policy(s,Q_sa,env,epsilon)\n",
    "    done = False\n",
    "\n",
    "    while not done:\n",
    "        new_state, reward, done, _ = env.step(a)\n",
    "        new_a = epsilon_policy(new_state,Q_sa,env,epsilon)\n",
    "        current_q = Q_sa[s, a]\n",
    "        new_q = Q_sa[new_state, new_a]\n",
    "        Q_sa[s,a] = current_q + LEARNING_RATE * (reward + DISCOUNT_FACTOR * new_q -  current_q) #formula of SARSA learning\n",
    "        epsilon -= 1/(EPISODES) if epsilon > 0 else 0 \n",
    "        s = new_state\n",
    "        a = new_a\n",
    "    rewards.append(reward)    \n"
   ]
  },
  {
   "cell_type": "code",
   "execution_count": 153,
   "id": "outdoor-disorder",
   "metadata": {},
   "outputs": [
    {
     "data": {
      "image/png": "[encoded data removed]",
      "text/plain": [
       "<Figure size 432x288 with 1 Axes>"
      ]
     },
     "metadata": {
      "needs_background": "light"
     },
     "output_type": "display_data"
    }
   ],
   "source": [
    "plot_result(rewards,'training_cases_reward',100)"
   ]
  },
  {
   "cell_type": "code",
   "execution_count": 154,
   "id": "fresh-amber",
   "metadata": {},
   "outputs": [
    {
     "data": {
      "text/plain": [
       "array([[0.80502254, 0.30016909, 0.44045012, 0.34208488],\n",
       "       [0.19339432, 0.14369006, 0.09573203, 0.64976016],\n",
       "       [0.49302293, 0.12299869, 0.10713283, 0.10602811],\n",
       "       [0.03050616, 0.02456757, 0.03117997, 0.14636187],\n",
       "       [0.80398879, 0.22289273, 0.33964848, 0.35752386],\n",
       "       [0.        , 0.        , 0.        , 0.        ],\n",
       "       [0.35926457, 0.01645494, 0.07074344, 0.0284015 ],\n",
       "       [0.        , 0.        , 0.        , 0.        ],\n",
       "       [0.27843116, 0.46355279, 0.2598143 , 0.80201048],\n",
       "       [0.41611113, 0.82640029, 0.34018059, 0.0847695 ],\n",
       "       [0.68812086, 0.22488702, 0.1453539 , 0.23012188],\n",
       "       [0.        , 0.        , 0.        , 0.        ],\n",
       "       [0.        , 0.        , 0.        , 0.        ],\n",
       "       [0.45828916, 0.44992779, 0.86429099, 0.36861953],\n",
       "       [0.63908747, 0.92782823, 0.57898064, 0.57296374],\n",
       "       [0.        , 0.        , 0.        , 0.        ]])"
      ]
     },
     "execution_count": 154,
     "metadata": {},
     "output_type": "execute_result"
    }
   ],
   "source": [
    "Q_sa"
   ]
  },
  {
   "cell_type": "code",
   "execution_count": 155,
   "id": "connected-finder",
   "metadata": {},
   "outputs": [],
   "source": [
    "greedy_policy = random_argmax_axis1(Q_sa)"
   ]
  },
  {
   "cell_type": "code",
   "execution_count": 156,
   "id": "processed-stationery",
   "metadata": {},
   "outputs": [],
   "source": [
    "def test(policy):\n",
    "    rewards = 0\n",
    "    TEST_EPISODES = 100\n",
    "    for i in range(TEST_EPISODES):\n",
    "        state  = env.reset()\n",
    "        done = False\n",
    "        while not done:\n",
    "            action = policy[state]\n",
    "            state, reward, done, _ = env.step(action)\n",
    "            if done:\n",
    "                rewards += reward\n",
    "    return rewards/TEST_EPISODES"
   ]
  },
  {
   "cell_type": "code",
   "execution_count": 157,
   "id": "sunrise-gambling",
   "metadata": {},
   "outputs": [],
   "source": [
    "mean_rewards_list = []\n",
    "mean_rewards = 0\n",
    "n = 1000\n",
    "for i in range(n):\n",
    "    reward = test(greedy_policy)\n",
    "    mean_rewards_list.append(reward)\n",
    "    mean_rewards += reward"
   ]
  },
  {
   "cell_type": "code",
   "execution_count": 158,
   "id": "broad-democrat",
   "metadata": {},
   "outputs": [
    {
     "name": "stdout",
     "output_type": "stream",
     "text": [
      "mean Reward from 1000 test cases is :0.7299700000000015\n"
     ]
    }
   ],
   "source": [
    "print(\"mean Reward from {} test cases is :{}\" .format(n,mean_rewards/n))"
   ]
  },
  {
   "cell_type": "code",
   "execution_count": 159,
   "id": "front-worse",
   "metadata": {},
   "outputs": [
    {
     "data": {
      "image/png": "[encoded data removed]",
      "text/plain": [
       "<Figure size 432x288 with 1 Axes>"
      ]
     },
     "metadata": {
      "needs_background": "light"
     },
     "output_type": "display_data"
    }
   ],
   "source": [
    "plot_result(mean_performance_list,'test_cases_reward', 1)"
   ]
  }
 ],
 "metadata": {
  "kernelspec": {
   "display_name": "Python 3",
   "language": "python",
   "name": "python3"
  },
  "language_info": {
   "codemirror_mode": {
    "name": "ipython",
    "version": 3
   },
   "file_extension": ".py",
   "mimetype": "text/x-python",
   "name": "python",
   "nbconvert_exporter": "python",
   "pygments_lexer": "ipython3",
   "version": "3.8.5"
  },
  "widgets": {
   "application/vnd.jupyter.widget-state+json": {
    "state": {},
    "version_major": 2,
    "version_minor": 0
   }
  }
 },
 "nbformat": 4,
 "nbformat_minor": 5
}
